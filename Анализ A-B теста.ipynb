{
 "cells": [
  {
   "cell_type": "code",
   "execution_count": 1,
   "metadata": {},
   "outputs": [],
   "source": [
    "import pandas as pd\n",
    "import numpy as np\n",
    "import scipy.stats as st\n",
    "import matplotlib.pyplot as plt\n",
    "import seaborn as sns\n",
    "\n",
    "from statsmodels.stats.proportion import proportions_ztest\n",
    "\n",
    "import warnings\n",
    "warnings.filterwarnings('ignore')"
   ]
  },
  {
   "cell_type": "markdown",
   "metadata": {},
   "source": [
    "# **Подготовка данных**"
   ]
  },
  {
   "cell_type": "code",
   "execution_count": 2,
   "metadata": {},
   "outputs": [],
   "source": [
    "# Загрузим данные\n",
    "contracts = pd.read_excel('data/CASE_CONTRACTS.xlsx')\n",
    "losses = pd.read_excel('data/CASE_LOSSES.xlsx')\n",
    "experiment_group = pd.read_excel('data/experiment_group.xlsx')"
   ]
  },
  {
   "cell_type": "code",
   "execution_count": 3,
   "metadata": {},
   "outputs": [
    {
     "name": "stdout",
     "output_type": "stream",
     "text": [
      "(3711, 10)\n",
      "(45, 4)\n",
      "(14842, 3)\n"
     ]
    }
   ],
   "source": [
    "# Посмотрим на размеры датафреймов\n",
    "dfs = [contracts, losses, experiment_group]\n",
    "for df in dfs:\n",
    "    print(df.shape)"
   ]
  },
  {
   "cell_type": "code",
   "execution_count": 4,
   "metadata": {},
   "outputs": [
    {
     "data": {
      "text/html": [
       "<div>\n",
       "<style scoped>\n",
       "    .dataframe tbody tr th:only-of-type {\n",
       "        vertical-align: middle;\n",
       "    }\n",
       "\n",
       "    .dataframe tbody tr th {\n",
       "        vertical-align: top;\n",
       "    }\n",
       "\n",
       "    .dataframe thead th {\n",
       "        text-align: right;\n",
       "    }\n",
       "</style>\n",
       "<table border=\"1\" class=\"dataframe\">\n",
       "  <thead>\n",
       "    <tr style=\"text-align: right;\">\n",
       "      <th></th>\n",
       "      <th>client_id</th>\n",
       "      <th>group</th>\n",
       "      <th>experiment_id</th>\n",
       "      <th>contract_id</th>\n",
       "      <th>contract_num</th>\n",
       "      <th>product_name</th>\n",
       "      <th>contract_status</th>\n",
       "      <th>currency_name</th>\n",
       "      <th>duration</th>\n",
       "      <th>country</th>\n",
       "      <th>price</th>\n",
       "      <th>insurance_amount</th>\n",
       "      <th>loss_id</th>\n",
       "      <th>loss_name</th>\n",
       "      <th>loss_payout_amt</th>\n",
       "    </tr>\n",
       "  </thead>\n",
       "  <tbody>\n",
       "    <tr>\n",
       "      <th>0</th>\n",
       "      <td>10001718</td>\n",
       "      <td>control</td>\n",
       "      <td>policy_pricing</td>\n",
       "      <td>2.123569e+08</td>\n",
       "      <td>ТТЕ7227715*****</td>\n",
       "      <td>Страхование путешественников</td>\n",
       "      <td>Действует</td>\n",
       "      <td>Российский рубль</td>\n",
       "      <td>14.0</td>\n",
       "      <td>Египет</td>\n",
       "      <td>3836.0</td>\n",
       "      <td>5000000.0</td>\n",
       "      <td>NaN</td>\n",
       "      <td>NaN</td>\n",
       "      <td>NaN</td>\n",
       "    </tr>\n",
       "    <tr>\n",
       "      <th>1</th>\n",
       "      <td>1017180395</td>\n",
       "      <td>control</td>\n",
       "      <td>policy_pricing</td>\n",
       "      <td>2.135234e+07</td>\n",
       "      <td>ДСЖ-5/1539*****</td>\n",
       "      <td>Страхование путешественников</td>\n",
       "      <td>Действует</td>\n",
       "      <td>Российский рубль</td>\n",
       "      <td>7.0</td>\n",
       "      <td>Таиланд</td>\n",
       "      <td>1918.0</td>\n",
       "      <td>5000000.0</td>\n",
       "      <td>NaN</td>\n",
       "      <td>NaN</td>\n",
       "      <td>NaN</td>\n",
       "    </tr>\n",
       "    <tr>\n",
       "      <th>2</th>\n",
       "      <td>1017178047</td>\n",
       "      <td>control</td>\n",
       "      <td>policy_pricing</td>\n",
       "      <td>2.147454e+09</td>\n",
       "      <td>ТМБЕ579 № *****</td>\n",
       "      <td>Страхование путешественников</td>\n",
       "      <td>Действует</td>\n",
       "      <td>Российский рубль</td>\n",
       "      <td>14.0</td>\n",
       "      <td>Египет</td>\n",
       "      <td>3836.0</td>\n",
       "      <td>5000000.0</td>\n",
       "      <td>NaN</td>\n",
       "      <td>NaN</td>\n",
       "      <td>NaN</td>\n",
       "    </tr>\n",
       "    <tr>\n",
       "      <th>3</th>\n",
       "      <td>1017174614</td>\n",
       "      <td>control</td>\n",
       "      <td>policy_pricing</td>\n",
       "      <td>2.135192e+07</td>\n",
       "      <td>ТМГ1535Е7 *****</td>\n",
       "      <td>Страхование путешественников</td>\n",
       "      <td>Действует</td>\n",
       "      <td>Российский рубль</td>\n",
       "      <td>7.0</td>\n",
       "      <td>Таиланд</td>\n",
       "      <td>1918.0</td>\n",
       "      <td>5000000.0</td>\n",
       "      <td>NaN</td>\n",
       "      <td>NaN</td>\n",
       "      <td>NaN</td>\n",
       "    </tr>\n",
       "    <tr>\n",
       "      <th>4</th>\n",
       "      <td>1017174071</td>\n",
       "      <td>control</td>\n",
       "      <td>policy_pricing</td>\n",
       "      <td>2.162434e+08</td>\n",
       "      <td>ТТЕ7227777*****</td>\n",
       "      <td>Страхование путешественников</td>\n",
       "      <td>Завершен</td>\n",
       "      <td>Российский рубль</td>\n",
       "      <td>10.0</td>\n",
       "      <td>Канада</td>\n",
       "      <td>1096.0</td>\n",
       "      <td>2000000.0</td>\n",
       "      <td>NaN</td>\n",
       "      <td>NaN</td>\n",
       "      <td>NaN</td>\n",
       "    </tr>\n",
       "  </tbody>\n",
       "</table>\n",
       "</div>"
      ],
      "text/plain": [
       "    client_id    group   experiment_id   contract_id     contract_num  \\\n",
       "0    10001718  control  policy_pricing  2.123569e+08  ТТЕ7227715*****   \n",
       "1  1017180395  control  policy_pricing  2.135234e+07  ДСЖ-5/1539*****   \n",
       "2  1017178047  control  policy_pricing  2.147454e+09  ТМБЕ579 № *****   \n",
       "3  1017174614  control  policy_pricing  2.135192e+07  ТМГ1535Е7 *****   \n",
       "4  1017174071  control  policy_pricing  2.162434e+08  ТТЕ7227777*****   \n",
       "\n",
       "                   product_name contract_status     currency_name  duration  \\\n",
       "0  Страхование путешественников       Действует  Российский рубль      14.0   \n",
       "1  Страхование путешественников       Действует  Российский рубль       7.0   \n",
       "2  Страхование путешественников       Действует  Российский рубль      14.0   \n",
       "3  Страхование путешественников       Действует  Российский рубль       7.0   \n",
       "4  Страхование путешественников        Завершен  Российский рубль      10.0   \n",
       "\n",
       "   country   price  insurance_amount  loss_id loss_name  loss_payout_amt  \n",
       "0   Египет  3836.0         5000000.0      NaN       NaN              NaN  \n",
       "1  Таиланд  1918.0         5000000.0      NaN       NaN              NaN  \n",
       "2   Египет  3836.0         5000000.0      NaN       NaN              NaN  \n",
       "3  Таиланд  1918.0         5000000.0      NaN       NaN              NaN  \n",
       "4   Канада  1096.0         2000000.0      NaN       NaN              NaN  "
      ]
     },
     "execution_count": 4,
     "metadata": {},
     "output_type": "execute_result"
    }
   ],
   "source": [
    "# Объединим данные в одну таблицу\n",
    "data = experiment_group.merge(\n",
    "        contracts, on='client_id', how='left').merge(\n",
    "        losses, on='client_id', how='left')\n",
    "data.head()"
   ]
  },
  {
   "cell_type": "code",
   "execution_count": 5,
   "metadata": {},
   "outputs": [
    {
     "data": {
      "text/html": [
       "<div>\n",
       "<style scoped>\n",
       "    .dataframe tbody tr th:only-of-type {\n",
       "        vertical-align: middle;\n",
       "    }\n",
       "\n",
       "    .dataframe tbody tr th {\n",
       "        vertical-align: top;\n",
       "    }\n",
       "\n",
       "    .dataframe thead th {\n",
       "        text-align: right;\n",
       "    }\n",
       "</style>\n",
       "<table border=\"1\" class=\"dataframe\">\n",
       "  <thead>\n",
       "    <tr style=\"text-align: right;\">\n",
       "      <th></th>\n",
       "      <th>client_id</th>\n",
       "      <th>group</th>\n",
       "      <th>experiment_id</th>\n",
       "      <th>contract_id</th>\n",
       "      <th>contract_num</th>\n",
       "      <th>product_name</th>\n",
       "      <th>contract_status</th>\n",
       "      <th>currency_name</th>\n",
       "      <th>duration</th>\n",
       "      <th>country</th>\n",
       "      <th>price</th>\n",
       "      <th>insurance_amount</th>\n",
       "      <th>loss_id</th>\n",
       "      <th>loss_name</th>\n",
       "      <th>loss_payout_amt</th>\n",
       "      <th>price_usd</th>\n",
       "      <th>insurance_amount_usd</th>\n",
       "      <th>loss_payout_amt_usd</th>\n",
       "    </tr>\n",
       "  </thead>\n",
       "  <tbody>\n",
       "    <tr>\n",
       "      <th>0</th>\n",
       "      <td>10001718</td>\n",
       "      <td>control</td>\n",
       "      <td>policy_pricing</td>\n",
       "      <td>2.123569e+08</td>\n",
       "      <td>ТТЕ7227715*****</td>\n",
       "      <td>Страхование путешественников</td>\n",
       "      <td>Действует</td>\n",
       "      <td>Российский рубль</td>\n",
       "      <td>14.0</td>\n",
       "      <td>Египет</td>\n",
       "      <td>3836.0</td>\n",
       "      <td>5000000.0</td>\n",
       "      <td>NaN</td>\n",
       "      <td>NaN</td>\n",
       "      <td>NaN</td>\n",
       "      <td>47.0</td>\n",
       "      <td>62500.0</td>\n",
       "      <td>NaN</td>\n",
       "    </tr>\n",
       "    <tr>\n",
       "      <th>1</th>\n",
       "      <td>1017180395</td>\n",
       "      <td>control</td>\n",
       "      <td>policy_pricing</td>\n",
       "      <td>2.135234e+07</td>\n",
       "      <td>ДСЖ-5/1539*****</td>\n",
       "      <td>Страхование путешественников</td>\n",
       "      <td>Действует</td>\n",
       "      <td>Российский рубль</td>\n",
       "      <td>7.0</td>\n",
       "      <td>Таиланд</td>\n",
       "      <td>1918.0</td>\n",
       "      <td>5000000.0</td>\n",
       "      <td>NaN</td>\n",
       "      <td>NaN</td>\n",
       "      <td>NaN</td>\n",
       "      <td>23.0</td>\n",
       "      <td>62500.0</td>\n",
       "      <td>NaN</td>\n",
       "    </tr>\n",
       "    <tr>\n",
       "      <th>2</th>\n",
       "      <td>1017178047</td>\n",
       "      <td>control</td>\n",
       "      <td>policy_pricing</td>\n",
       "      <td>2.147454e+09</td>\n",
       "      <td>ТМБЕ579 № *****</td>\n",
       "      <td>Страхование путешественников</td>\n",
       "      <td>Действует</td>\n",
       "      <td>Российский рубль</td>\n",
       "      <td>14.0</td>\n",
       "      <td>Египет</td>\n",
       "      <td>3836.0</td>\n",
       "      <td>5000000.0</td>\n",
       "      <td>NaN</td>\n",
       "      <td>NaN</td>\n",
       "      <td>NaN</td>\n",
       "      <td>47.0</td>\n",
       "      <td>62500.0</td>\n",
       "      <td>NaN</td>\n",
       "    </tr>\n",
       "    <tr>\n",
       "      <th>3</th>\n",
       "      <td>1017174614</td>\n",
       "      <td>control</td>\n",
       "      <td>policy_pricing</td>\n",
       "      <td>2.135192e+07</td>\n",
       "      <td>ТМГ1535Е7 *****</td>\n",
       "      <td>Страхование путешественников</td>\n",
       "      <td>Действует</td>\n",
       "      <td>Российский рубль</td>\n",
       "      <td>7.0</td>\n",
       "      <td>Таиланд</td>\n",
       "      <td>1918.0</td>\n",
       "      <td>5000000.0</td>\n",
       "      <td>NaN</td>\n",
       "      <td>NaN</td>\n",
       "      <td>NaN</td>\n",
       "      <td>23.0</td>\n",
       "      <td>62500.0</td>\n",
       "      <td>NaN</td>\n",
       "    </tr>\n",
       "    <tr>\n",
       "      <th>4</th>\n",
       "      <td>1017174071</td>\n",
       "      <td>control</td>\n",
       "      <td>policy_pricing</td>\n",
       "      <td>2.162434e+08</td>\n",
       "      <td>ТТЕ7227777*****</td>\n",
       "      <td>Страхование путешественников</td>\n",
       "      <td>Завершен</td>\n",
       "      <td>Российский рубль</td>\n",
       "      <td>10.0</td>\n",
       "      <td>Канада</td>\n",
       "      <td>1096.0</td>\n",
       "      <td>2000000.0</td>\n",
       "      <td>NaN</td>\n",
       "      <td>NaN</td>\n",
       "      <td>NaN</td>\n",
       "      <td>13.0</td>\n",
       "      <td>25000.0</td>\n",
       "      <td>NaN</td>\n",
       "    </tr>\n",
       "  </tbody>\n",
       "</table>\n",
       "</div>"
      ],
      "text/plain": [
       "    client_id    group   experiment_id   contract_id     contract_num  \\\n",
       "0    10001718  control  policy_pricing  2.123569e+08  ТТЕ7227715*****   \n",
       "1  1017180395  control  policy_pricing  2.135234e+07  ДСЖ-5/1539*****   \n",
       "2  1017178047  control  policy_pricing  2.147454e+09  ТМБЕ579 № *****   \n",
       "3  1017174614  control  policy_pricing  2.135192e+07  ТМГ1535Е7 *****   \n",
       "4  1017174071  control  policy_pricing  2.162434e+08  ТТЕ7227777*****   \n",
       "\n",
       "                   product_name contract_status     currency_name  duration  \\\n",
       "0  Страхование путешественников       Действует  Российский рубль      14.0   \n",
       "1  Страхование путешественников       Действует  Российский рубль       7.0   \n",
       "2  Страхование путешественников       Действует  Российский рубль      14.0   \n",
       "3  Страхование путешественников       Действует  Российский рубль       7.0   \n",
       "4  Страхование путешественников        Завершен  Российский рубль      10.0   \n",
       "\n",
       "   country   price  insurance_amount  loss_id loss_name  loss_payout_amt  \\\n",
       "0   Египет  3836.0         5000000.0      NaN       NaN              NaN   \n",
       "1  Таиланд  1918.0         5000000.0      NaN       NaN              NaN   \n",
       "2   Египет  3836.0         5000000.0      NaN       NaN              NaN   \n",
       "3  Таиланд  1918.0         5000000.0      NaN       NaN              NaN   \n",
       "4   Канада  1096.0         2000000.0      NaN       NaN              NaN   \n",
       "\n",
       "   price_usd  insurance_amount_usd  loss_payout_amt_usd  \n",
       "0       47.0               62500.0                  NaN  \n",
       "1       23.0               62500.0                  NaN  \n",
       "2       47.0               62500.0                  NaN  \n",
       "3       23.0               62500.0                  NaN  \n",
       "4       13.0               25000.0                  NaN  "
      ]
     },
     "execution_count": 5,
     "metadata": {},
     "output_type": "execute_result"
    }
   ],
   "source": [
    "# Конвертируем рубли в доллары\n",
    "def converter(amount, currency, rate=80):\n",
    "    if currency == 'Российский рубль':\n",
    "        if amount > 0:\n",
    "            return int(amount / rate)\n",
    "    else:\n",
    "        return amount\n",
    "\n",
    "\n",
    "data['price_usd'] = data.apply(lambda row: converter(row['price'], row['currency_name']), axis=1)\n",
    "data['insurance_amount_usd'] = data.apply(lambda row: converter(row['insurance_amount'], row['currency_name']), axis=1)\n",
    "data['loss_payout_amt_usd'] = data.apply(lambda row: converter(row['loss_payout_amt'], row['currency_name']), axis=1)\n",
    "data.head()"
   ]
  },
  {
   "cell_type": "code",
   "execution_count": 6,
   "metadata": {},
   "outputs": [],
   "source": [
    "# Создадим флаги для потерь и конверсий\n",
    "data['loss_cnt'] = data['loss_payout_amt_usd'].apply(lambda x: 1 if x > 0 else 0)\n",
    "data['converted'] = data['price'].apply(lambda x: 1 if x > 0 else 0)"
   ]
  },
  {
   "cell_type": "code",
   "execution_count": 7,
   "metadata": {},
   "outputs": [
    {
     "data": {
      "text/html": [
       "<div>\n",
       "<style scoped>\n",
       "    .dataframe tbody tr th:only-of-type {\n",
       "        vertical-align: middle;\n",
       "    }\n",
       "\n",
       "    .dataframe tbody tr th {\n",
       "        vertical-align: top;\n",
       "    }\n",
       "\n",
       "    .dataframe thead th {\n",
       "        text-align: right;\n",
       "    }\n",
       "</style>\n",
       "<table border=\"1\" class=\"dataframe\">\n",
       "  <thead>\n",
       "    <tr style=\"text-align: right;\">\n",
       "      <th></th>\n",
       "      <th>client_id</th>\n",
       "      <th>contract_id</th>\n",
       "      <th>duration</th>\n",
       "      <th>price</th>\n",
       "      <th>insurance_amount</th>\n",
       "      <th>loss_id</th>\n",
       "      <th>loss_payout_amt</th>\n",
       "      <th>price_usd</th>\n",
       "      <th>insurance_amount_usd</th>\n",
       "      <th>loss_payout_amt_usd</th>\n",
       "      <th>loss_cnt</th>\n",
       "      <th>converted</th>\n",
       "    </tr>\n",
       "  </thead>\n",
       "  <tbody>\n",
       "    <tr>\n",
       "      <th>count</th>\n",
       "      <td>1.484200e+04</td>\n",
       "      <td>3.711000e+03</td>\n",
       "      <td>3711.000000</td>\n",
       "      <td>3711.000000</td>\n",
       "      <td>3.711000e+03</td>\n",
       "      <td>45.000000</td>\n",
       "      <td>4.500000e+01</td>\n",
       "      <td>3711.000000</td>\n",
       "      <td>3711.000000</td>\n",
       "      <td>45.000000</td>\n",
       "      <td>14842.000000</td>\n",
       "      <td>14842.000000</td>\n",
       "    </tr>\n",
       "    <tr>\n",
       "      <th>mean</th>\n",
       "      <td>5.720898e+09</td>\n",
       "      <td>8.934257e+08</td>\n",
       "      <td>24.120453</td>\n",
       "      <td>4167.948262</td>\n",
       "      <td>3.296200e+06</td>\n",
       "      <td>23.000000</td>\n",
       "      <td>2.226667e+05</td>\n",
       "      <td>58.307195</td>\n",
       "      <td>43916.734034</td>\n",
       "      <td>3880.555556</td>\n",
       "      <td>0.003032</td>\n",
       "      <td>0.250034</td>\n",
       "    </tr>\n",
       "    <tr>\n",
       "      <th>std</th>\n",
       "      <td>4.761103e+09</td>\n",
       "      <td>2.727517e+09</td>\n",
       "      <td>60.085485</td>\n",
       "      <td>9555.133845</td>\n",
       "      <td>1.511247e+06</td>\n",
       "      <td>13.133926</td>\n",
       "      <td>3.539158e+05</td>\n",
       "      <td>153.057421</td>\n",
       "      <td>19400.866063</td>\n",
       "      <td>6452.457004</td>\n",
       "      <td>0.054981</td>\n",
       "      <td>0.433047</td>\n",
       "    </tr>\n",
       "    <tr>\n",
       "      <th>min</th>\n",
       "      <td>1.000172e+07</td>\n",
       "      <td>2.111122e+07</td>\n",
       "      <td>7.000000</td>\n",
       "      <td>27.000000</td>\n",
       "      <td>5.000000e+04</td>\n",
       "      <td>1.000000</td>\n",
       "      <td>2.000000e+04</td>\n",
       "      <td>6.000000</td>\n",
       "      <td>12500.000000</td>\n",
       "      <td>250.000000</td>\n",
       "      <td>0.000000</td>\n",
       "      <td>0.000000</td>\n",
       "    </tr>\n",
       "    <tr>\n",
       "      <th>25%</th>\n",
       "      <td>1.001189e+09</td>\n",
       "      <td>2.127130e+08</td>\n",
       "      <td>10.000000</td>\n",
       "      <td>1096.000000</td>\n",
       "      <td>2.000000e+06</td>\n",
       "      <td>12.000000</td>\n",
       "      <td>5.000000e+04</td>\n",
       "      <td>13.000000</td>\n",
       "      <td>25000.000000</td>\n",
       "      <td>625.000000</td>\n",
       "      <td>0.000000</td>\n",
       "      <td>0.000000</td>\n",
       "    </tr>\n",
       "    <tr>\n",
       "      <th>50%</th>\n",
       "      <td>1.000931e+10</td>\n",
       "      <td>2.138622e+08</td>\n",
       "      <td>14.000000</td>\n",
       "      <td>1918.000000</td>\n",
       "      <td>3.000000e+06</td>\n",
       "      <td>23.000000</td>\n",
       "      <td>8.000000e+04</td>\n",
       "      <td>23.000000</td>\n",
       "      <td>37500.000000</td>\n",
       "      <td>1250.000000</td>\n",
       "      <td>0.000000</td>\n",
       "      <td>0.000000</td>\n",
       "    </tr>\n",
       "    <tr>\n",
       "      <th>75%</th>\n",
       "      <td>1.011676e+10</td>\n",
       "      <td>2.364878e+08</td>\n",
       "      <td>14.000000</td>\n",
       "      <td>3836.000000</td>\n",
       "      <td>5.000000e+06</td>\n",
       "      <td>34.000000</td>\n",
       "      <td>1.500000e+05</td>\n",
       "      <td>47.000000</td>\n",
       "      <td>62500.000000</td>\n",
       "      <td>2500.000000</td>\n",
       "      <td>0.000000</td>\n",
       "      <td>0.750000</td>\n",
       "    </tr>\n",
       "    <tr>\n",
       "      <th>max</th>\n",
       "      <td>1.199690e+10</td>\n",
       "      <td>3.113393e+10</td>\n",
       "      <td>365.000000</td>\n",
       "      <td>60000.000000</td>\n",
       "      <td>5.000000e+06</td>\n",
       "      <td>45.000000</td>\n",
       "      <td>1.500000e+06</td>\n",
       "      <td>2000.000000</td>\n",
       "      <td>100000.000000</td>\n",
       "      <td>30000.000000</td>\n",
       "      <td>1.000000</td>\n",
       "      <td>1.000000</td>\n",
       "    </tr>\n",
       "  </tbody>\n",
       "</table>\n",
       "</div>"
      ],
      "text/plain": [
       "          client_id   contract_id     duration         price  \\\n",
       "count  1.484200e+04  3.711000e+03  3711.000000   3711.000000   \n",
       "mean   5.720898e+09  8.934257e+08    24.120453   4167.948262   \n",
       "std    4.761103e+09  2.727517e+09    60.085485   9555.133845   \n",
       "min    1.000172e+07  2.111122e+07     7.000000     27.000000   \n",
       "25%    1.001189e+09  2.127130e+08    10.000000   1096.000000   \n",
       "50%    1.000931e+10  2.138622e+08    14.000000   1918.000000   \n",
       "75%    1.011676e+10  2.364878e+08    14.000000   3836.000000   \n",
       "max    1.199690e+10  3.113393e+10   365.000000  60000.000000   \n",
       "\n",
       "       insurance_amount    loss_id  loss_payout_amt    price_usd  \\\n",
       "count      3.711000e+03  45.000000     4.500000e+01  3711.000000   \n",
       "mean       3.296200e+06  23.000000     2.226667e+05    58.307195   \n",
       "std        1.511247e+06  13.133926     3.539158e+05   153.057421   \n",
       "min        5.000000e+04   1.000000     2.000000e+04     6.000000   \n",
       "25%        2.000000e+06  12.000000     5.000000e+04    13.000000   \n",
       "50%        3.000000e+06  23.000000     8.000000e+04    23.000000   \n",
       "75%        5.000000e+06  34.000000     1.500000e+05    47.000000   \n",
       "max        5.000000e+06  45.000000     1.500000e+06  2000.000000   \n",
       "\n",
       "       insurance_amount_usd  loss_payout_amt_usd      loss_cnt     converted  \n",
       "count           3711.000000            45.000000  14842.000000  14842.000000  \n",
       "mean           43916.734034          3880.555556      0.003032      0.250034  \n",
       "std            19400.866063          6452.457004      0.054981      0.433047  \n",
       "min            12500.000000           250.000000      0.000000      0.000000  \n",
       "25%            25000.000000           625.000000      0.000000      0.000000  \n",
       "50%            37500.000000          1250.000000      0.000000      0.000000  \n",
       "75%            62500.000000          2500.000000      0.000000      0.750000  \n",
       "max           100000.000000         30000.000000      1.000000      1.000000  "
      ]
     },
     "execution_count": 7,
     "metadata": {},
     "output_type": "execute_result"
    }
   ],
   "source": [
    "# Посмотрим на распределение данных\n",
    "data.describe()"
   ]
  },
  {
   "cell_type": "code",
   "execution_count": 8,
   "metadata": {},
   "outputs": [],
   "source": [
    "# Уберём выбросы\n",
    "q95 = data.price_usd.quantile(0.95)\n",
    "data['price_usd'] = data['price_usd'].apply(lambda x: q95 if x > q95 else x)"
   ]
  },
  {
   "cell_type": "code",
   "execution_count": 9,
   "metadata": {},
   "outputs": [
    {
     "data": {
      "text/plain": [
       "<Axes: title={'center': 'price_usd'}, xlabel='group'>"
      ]
     },
     "execution_count": 9,
     "metadata": {},
     "output_type": "execute_result"
    },
    {
     "data": {
      "image/png": "[encoded data removed]",
      "text/plain": [
       "<Figure size 1200x600 with 1 Axes>"
      ]
     },
     "metadata": {},
     "output_type": "display_data"
    }
   ],
   "source": [
    "data.boxplot('price_usd', by='group', figsize=(12, 6))"
   ]
  },
  {
   "cell_type": "code",
   "execution_count": 10,
   "metadata": {},
   "outputs": [],
   "source": [
    "# Удалим лишние столбцы\n",
    "df = data.drop(['experiment_id', 'contract_id', 'contract_num', 'product_name', 'duration',\n",
    "                'currency_name', 'country', 'price', 'insurance_amount', 'loss_id', \n",
    "                'loss_name', 'loss_payout_amt', 'contract_status',], axis=1)"
   ]
  },
  {
   "cell_type": "code",
   "execution_count": 11,
   "metadata": {},
   "outputs": [
    {
     "name": "stdout",
     "output_type": "stream",
     "text": [
      "<class 'pandas.core.frame.DataFrame'>\n",
      "Int64Index: 14842 entries, 0 to 14841\n",
      "Data columns (total 7 columns):\n",
      " #   Column                Non-Null Count  Dtype  \n",
      "---  ------                --------------  -----  \n",
      " 0   client_id             14842 non-null  int64  \n",
      " 1   group                 12349 non-null  object \n",
      " 2   price_usd             3711 non-null   float64\n",
      " 3   insurance_amount_usd  3711 non-null   float64\n",
      " 4   loss_payout_amt_usd   45 non-null     float64\n",
      " 5   loss_cnt              14842 non-null  int64  \n",
      " 6   converted             14842 non-null  int64  \n",
      "dtypes: float64(3), int64(3), object(1)\n",
      "memory usage: 927.6+ KB\n"
     ]
    }
   ],
   "source": [
    "# Посмотрим на типы данных\n",
    "df.info()"
   ]
  },
  {
   "cell_type": "code",
   "execution_count": 12,
   "metadata": {},
   "outputs": [
    {
     "data": {
      "text/html": [
       "<div>\n",
       "<style scoped>\n",
       "    .dataframe tbody tr th:only-of-type {\n",
       "        vertical-align: middle;\n",
       "    }\n",
       "\n",
       "    .dataframe tbody tr th {\n",
       "        vertical-align: top;\n",
       "    }\n",
       "\n",
       "    .dataframe thead th {\n",
       "        text-align: right;\n",
       "    }\n",
       "</style>\n",
       "<table border=\"1\" class=\"dataframe\">\n",
       "  <thead>\n",
       "    <tr style=\"text-align: right;\">\n",
       "      <th></th>\n",
       "      <th>client_id</th>\n",
       "      <th>group</th>\n",
       "      <th>price_usd</th>\n",
       "      <th>insurance_amount_usd</th>\n",
       "      <th>loss_payout_amt_usd</th>\n",
       "      <th>loss_cnt</th>\n",
       "      <th>converted</th>\n",
       "    </tr>\n",
       "  </thead>\n",
       "  <tbody>\n",
       "    <tr>\n",
       "      <th>0</th>\n",
       "      <td>10001718</td>\n",
       "      <td>control</td>\n",
       "      <td>47</td>\n",
       "      <td>62500</td>\n",
       "      <td>0</td>\n",
       "      <td>0</td>\n",
       "      <td>1</td>\n",
       "    </tr>\n",
       "    <tr>\n",
       "      <th>1</th>\n",
       "      <td>1017180395</td>\n",
       "      <td>control</td>\n",
       "      <td>23</td>\n",
       "      <td>62500</td>\n",
       "      <td>0</td>\n",
       "      <td>0</td>\n",
       "      <td>1</td>\n",
       "    </tr>\n",
       "    <tr>\n",
       "      <th>2</th>\n",
       "      <td>1017178047</td>\n",
       "      <td>control</td>\n",
       "      <td>47</td>\n",
       "      <td>62500</td>\n",
       "      <td>0</td>\n",
       "      <td>0</td>\n",
       "      <td>1</td>\n",
       "    </tr>\n",
       "    <tr>\n",
       "      <th>3</th>\n",
       "      <td>1017174614</td>\n",
       "      <td>control</td>\n",
       "      <td>23</td>\n",
       "      <td>62500</td>\n",
       "      <td>0</td>\n",
       "      <td>0</td>\n",
       "      <td>1</td>\n",
       "    </tr>\n",
       "    <tr>\n",
       "      <th>4</th>\n",
       "      <td>1017174071</td>\n",
       "      <td>control</td>\n",
       "      <td>13</td>\n",
       "      <td>25000</td>\n",
       "      <td>0</td>\n",
       "      <td>0</td>\n",
       "      <td>1</td>\n",
       "    </tr>\n",
       "  </tbody>\n",
       "</table>\n",
       "</div>"
      ],
      "text/plain": [
       "    client_id    group  price_usd  insurance_amount_usd  loss_payout_amt_usd  \\\n",
       "0    10001718  control         47                 62500                    0   \n",
       "1  1017180395  control         23                 62500                    0   \n",
       "2  1017178047  control         47                 62500                    0   \n",
       "3  1017174614  control         23                 62500                    0   \n",
       "4  1017174071  control         13                 25000                    0   \n",
       "\n",
       "   loss_cnt  converted  \n",
       "0         0          1  \n",
       "1         0          1  \n",
       "2         0          1  \n",
       "3         0          1  \n",
       "4         0          1  "
      ]
     },
     "execution_count": 12,
     "metadata": {},
     "output_type": "execute_result"
    }
   ],
   "source": [
    "# Удалим строки с пропусками в столбце group\n",
    "df = df.dropna(subset=['group'])\n",
    "\n",
    "# Заполним пропуски в числовых признаках значением 0 и изменим тип данных\n",
    "cols = ['price_usd', 'insurance_amount_usd', 'loss_payout_amt_usd']\n",
    "for col in cols:\n",
    "    df[col] = df[col].fillna(0).astype('int')\n",
    "\n",
    "df.reset_index(drop=True, inplace=True)\n",
    "df.head()"
   ]
  },
  {
   "cell_type": "code",
   "execution_count": 13,
   "metadata": {},
   "outputs": [
    {
     "data": {
      "text/html": [
       "<div>\n",
       "<style scoped>\n",
       "    .dataframe tbody tr th:only-of-type {\n",
       "        vertical-align: middle;\n",
       "    }\n",
       "\n",
       "    .dataframe tbody tr th {\n",
       "        vertical-align: top;\n",
       "    }\n",
       "\n",
       "    .dataframe thead th {\n",
       "        text-align: right;\n",
       "    }\n",
       "</style>\n",
       "<table border=\"1\" class=\"dataframe\">\n",
       "  <thead>\n",
       "    <tr style=\"text-align: right;\">\n",
       "      <th></th>\n",
       "      <th>group</th>\n",
       "      <th>client_id</th>\n",
       "      <th>price_usd</th>\n",
       "      <th>insurance_amount_usd</th>\n",
       "      <th>loss_payout_amt_usd</th>\n",
       "      <th>loss_cnt</th>\n",
       "      <th>converted</th>\n",
       "      <th>conversion_rate</th>\n",
       "      <th>avg_price</th>\n",
       "      <th>avg_insurance_amount</th>\n",
       "      <th>avg_loss_payout_amt</th>\n",
       "    </tr>\n",
       "  </thead>\n",
       "  <tbody>\n",
       "    <tr>\n",
       "      <th>0</th>\n",
       "      <td>control</td>\n",
       "      <td>6043</td>\n",
       "      <td>65064</td>\n",
       "      <td>92337500</td>\n",
       "      <td>79750</td>\n",
       "      <td>30</td>\n",
       "      <td>1949</td>\n",
       "      <td>0.322522</td>\n",
       "      <td>33.383273</td>\n",
       "      <td>47376.859928</td>\n",
       "      <td>2658.333333</td>\n",
       "    </tr>\n",
       "    <tr>\n",
       "      <th>1</th>\n",
       "      <td>test</td>\n",
       "      <td>6306</td>\n",
       "      <td>57982</td>\n",
       "      <td>64662500</td>\n",
       "      <td>92375</td>\n",
       "      <td>14</td>\n",
       "      <td>1667</td>\n",
       "      <td>0.264351</td>\n",
       "      <td>34.782244</td>\n",
       "      <td>38789.742052</td>\n",
       "      <td>6598.214286</td>\n",
       "    </tr>\n",
       "  </tbody>\n",
       "</table>\n",
       "</div>"
      ],
      "text/plain": [
       "     group  client_id  price_usd  insurance_amount_usd  loss_payout_amt_usd  \\\n",
       "0  control       6043      65064              92337500                79750   \n",
       "1     test       6306      57982              64662500                92375   \n",
       "\n",
       "   loss_cnt  converted  conversion_rate  avg_price  avg_insurance_amount  \\\n",
       "0        30       1949         0.322522  33.383273          47376.859928   \n",
       "1        14       1667         0.264351  34.782244          38789.742052   \n",
       "\n",
       "   avg_loss_payout_amt  \n",
       "0          2658.333333  \n",
       "1          6598.214286  "
      ]
     },
     "execution_count": 13,
     "metadata": {},
     "output_type": "execute_result"
    }
   ],
   "source": [
    "# Сгруппируем данные\n",
    "group = df.groupby('group').agg({'client_id':'count','price_usd': 'sum', 'insurance_amount_usd': 'sum', \n",
    "                                 'loss_payout_amt_usd': 'sum', 'loss_cnt': 'sum', 'converted': 'sum'}).reset_index()\n",
    "                                 \n",
    "group['conversion_rate'] = group['converted'] / group['client_id']\n",
    "group['avg_price'] = group['price_usd'] / group['converted']\n",
    "group['avg_insurance_amount'] = group['insurance_amount_usd'] / group['converted']\n",
    "group['avg_loss_payout_amt'] = group['loss_payout_amt_usd'] / group['loss_cnt']\n",
    "group"
   ]
  },
  {
   "cell_type": "markdown",
   "metadata": {},
   "source": [
    "# **Проверка гипотез**"
   ]
  },
  {
   "cell_type": "markdown",
   "metadata": {},
   "source": [
    "## **Равенство пропорций**\n",
    "### - H0: Наблюдаемые пропорции выборок соответствуют ожидаемым теоретическим пропорциям.\n",
    "### - H1: Наблюдаемые пропорции выборок не соответствуют ожидаемым теоретическим пропорциям."
   ]
  },
  {
   "cell_type": "code",
   "execution_count": 14,
   "metadata": {},
   "outputs": [
    {
     "name": "stdout",
     "output_type": "stream",
     "text": [
      "p-value равно 0.017948361469529415\n",
      "Не получилось отвергнуть нулевую гипотезу\n"
     ]
    }
   ],
   "source": [
    "# SRM тест\n",
    "control = group['client_id'][0]\n",
    "test = group['client_id'][1]\n",
    "total = test + control\n",
    "observed = [test, control]\n",
    "expected = [total/2, total/2]\n",
    "alpha = 0.01\n",
    "\n",
    "stats, pvalue = st.chisquare(observed, f_exp = expected)\n",
    "\n",
    "print('p-value равно', pvalue)\n",
    "\n",
    "if pvalue < alpha:\n",
    "    print('Отвергаем нулевую гипотезу')\n",
    "else:\n",
    "    print('Не получилось отвергнуть нулевую гипотезу')"
   ]
  },
  {
   "cell_type": "code",
   "execution_count": 15,
   "metadata": {},
   "outputs": [
    {
     "data": {
      "image/png": "[encoded data removed]",
      "text/plain": [
       "<Figure size 640x480 with 1 Axes>"
      ]
     },
     "metadata": {},
     "output_type": "display_data"
    }
   ],
   "source": [
    "# Визуализируем количество пользователей в каждой группе \n",
    "sns.barplot(x='group', y='client_id', data=group, color='grey')\n",
    "# Добавим подписи сверху столбцов\n",
    "for i in range(2):\n",
    "    plt.text(x=i, y=group['client_id'][i]+50, s=group['client_id'][i], horizontalalignment='center')\n",
    "plt.xlabel('Группа')\n",
    "plt.ylabel('Количество пользователей')\n",
    "plt.show()\n"
   ]
  },
  {
   "cell_type": "markdown",
   "metadata": {},
   "source": [
    "### Пропорции клиентов в группах не отличаются"
   ]
  },
  {
   "cell_type": "markdown",
   "metadata": {},
   "source": [
    "## **Конверсия**\n",
    "### - H0: Конверсия контрольной группы равна конверсии тестовой группы\n",
    "### - H1: Конверсия контрольной группы не равна конверсии тестовой группы"
   ]
  },
  {
   "cell_type": "code",
   "execution_count": 16,
   "metadata": {},
   "outputs": [
    {
     "name": "stdout",
     "output_type": "stream",
     "text": [
      "p-value равно 1.2376025494738044e-12\n",
      "Отвергаем нулевую гипотезу\n"
     ]
    }
   ],
   "source": [
    "# Проводим z-тест на равенство пропорций\n",
    "count = np.array([group['converted'][0], group['converted'][1]])\n",
    "nobs = np.array([group['client_id'][0], group['client_id'][1]])\n",
    "alpha = 0.01\n",
    "\n",
    "stats, pvalue = proportions_ztest(count, nobs, alternative='two-sided')\n",
    "\n",
    "print('p-value равно', pvalue)\n",
    "\n",
    "if (pvalue < alpha):\n",
    "    print('Отвергаем нулевую гипотезу')\n",
    "else:\n",
    "    print('Не получилось отвергнуть нулевую гипотезу')"
   ]
  },
  {
   "cell_type": "code",
   "execution_count": 17,
   "metadata": {},
   "outputs": [
    {
     "name": "stdout",
     "output_type": "stream",
     "text": [
      "Изменение конверсии в тестовой группе по отношению к контрольной: -18.0%\n"
     ]
    }
   ],
   "source": [
    "# На сколько процентов изменилась конверсия в оформления в тестовой группе по отношению к контрольной\n",
    "control = group['conversion_rate'][0]\n",
    "test = group['conversion_rate'][1]\n",
    "print('Изменение конверсии в тестовой группе по отношению к контрольной: {:.1%}'.format(test/control-1))"
   ]
  },
  {
   "cell_type": "code",
   "execution_count": 18,
   "metadata": {},
   "outputs": [
    {
     "data": {
      "image/png": "[encoded data removed]",
      "text/plain": [
       "<Figure size 640x480 with 1 Axes>"
      ]
     },
     "metadata": {},
     "output_type": "display_data"
    }
   ],
   "source": [
    "# Визуализируем конверсию по группам\n",
    "sns.barplot(x='group', y='conversion_rate', data=group, color='grey')\n",
    "# Добавим подписи сверху столбцов\n",
    "for i in range(2):\n",
    "    plt.text(x=i, y=group['conversion_rate'][i]+0.002, s=round(group['conversion_rate'][i],2), horizontalalignment='center')\n",
    "plt.xlabel('Группа')\n",
    "plt.ylabel('Доля конверсии')\n",
    "plt.show()"
   ]
  },
  {
   "cell_type": "markdown",
   "metadata": {},
   "source": [
    "## **Цена полиса**\n",
    "\n",
    "### - H0: Средняя цена полиса для контрольной и тестовой группы не отличается\n",
    "### - H1: Средняя цена полиса для контрольной и тестовой группы отличается"
   ]
  },
  {
   "cell_type": "code",
   "execution_count": 19,
   "metadata": {},
   "outputs": [
    {
     "name": "stdout",
     "output_type": "stream",
     "text": [
      "p-value равно 0.08169860997398731\n",
      "Не получилось отвергнуть нулевую гипотезу\n"
     ]
    }
   ],
   "source": [
    "# Проведём t-тест для проверки гипотезы о равенстве цен полиса в группах\n",
    "control_price = df[(df['group'] == 'control') & (df['converted'] == 1)]['price_usd']\n",
    "test_price = df[(df['group'] == 'test') & (df['converted'] == 1)]['price_usd']\n",
    "alpha = 0.01\n",
    "\n",
    "stats, pvalue = st.ttest_ind(control_price, test_price, equal_var = False)\n",
    "\n",
    "print('p-value равно', pvalue)\n",
    "\n",
    "if (pvalue < alpha):\n",
    "    print('Отвергаем нулевую гипотезу')\n",
    "else:\n",
    "    print('Не получилось отвергнуть нулевую гипотезу')"
   ]
  },
  {
   "cell_type": "code",
   "execution_count": 20,
   "metadata": {},
   "outputs": [
    {
     "name": "stdout",
     "output_type": "stream",
     "text": [
      "Наблюдаемое изменение цены полиса в тестовой группе по отношению к контрольной: 4.2%\n"
     ]
    }
   ],
   "source": [
    "# На сколько процентов изменилась цена полиса в тестовой группе по отношению к контрольной\n",
    "control = group['avg_price'][0]\n",
    "test = group['avg_price'][1]\n",
    "\n",
    "print('Наблюдаемое изменение цены полиса в тестовой группе по отношению к контрольной: {:.1%}'.format((test/control)-1))"
   ]
  },
  {
   "cell_type": "code",
   "execution_count": 21,
   "metadata": {},
   "outputs": [
    {
     "data": {
      "image/png": "[encoded data removed]",
      "text/plain": [
       "<Figure size 640x480 with 1 Axes>"
      ]
     },
     "metadata": {},
     "output_type": "display_data"
    }
   ],
   "source": [
    "# Визуализируем цену полиса по группам\n",
    "sns.barplot(x='group', y='avg_price', data=group, color='grey')\n",
    "# Добавим подписи сверху столбцов\n",
    "for i in range(2):\n",
    "    plt.text(x=i, y=group['avg_price'][i]+0.2, s=round(group['avg_price'][i],2), horizontalalignment='center')\n",
    "plt.xlabel('Группа')\n",
    "plt.ylabel('Средняя цена полиса ($)')\n",
    "plt.show()"
   ]
  },
  {
   "cell_type": "markdown",
   "metadata": {},
   "source": [
    "## **Убыточность**\n",
    "### - H0: Убыточность контрольной и тестовой группы не отличается\n",
    "### - H1: Убыточность контрольной и тестовой группы отличается"
   ]
  },
  {
   "cell_type": "code",
   "execution_count": 22,
   "metadata": {},
   "outputs": [
    {
     "data": {
      "text/html": [
       "<div>\n",
       "<style scoped>\n",
       "    .dataframe tbody tr th:only-of-type {\n",
       "        vertical-align: middle;\n",
       "    }\n",
       "\n",
       "    .dataframe tbody tr th {\n",
       "        vertical-align: top;\n",
       "    }\n",
       "\n",
       "    .dataframe thead th {\n",
       "        text-align: right;\n",
       "    }\n",
       "</style>\n",
       "<table border=\"1\" class=\"dataframe\">\n",
       "  <thead>\n",
       "    <tr style=\"text-align: right;\">\n",
       "      <th></th>\n",
       "      <th>group</th>\n",
       "      <th>client_id</th>\n",
       "      <th>price_usd</th>\n",
       "      <th>insurance_amount_usd</th>\n",
       "      <th>loss_payout_amt_usd</th>\n",
       "      <th>loss_cnt</th>\n",
       "      <th>converted</th>\n",
       "      <th>conversion_rate</th>\n",
       "      <th>avg_price</th>\n",
       "      <th>avg_insurance_amount</th>\n",
       "      <th>avg_loss_payout_amt</th>\n",
       "    </tr>\n",
       "  </thead>\n",
       "  <tbody>\n",
       "    <tr>\n",
       "      <th>0</th>\n",
       "      <td>control</td>\n",
       "      <td>6043</td>\n",
       "      <td>65064</td>\n",
       "      <td>92337500</td>\n",
       "      <td>79750</td>\n",
       "      <td>30</td>\n",
       "      <td>1949</td>\n",
       "      <td>0.322522</td>\n",
       "      <td>33.383273</td>\n",
       "      <td>47376.859928</td>\n",
       "      <td>2658.333333</td>\n",
       "    </tr>\n",
       "    <tr>\n",
       "      <th>1</th>\n",
       "      <td>test</td>\n",
       "      <td>6306</td>\n",
       "      <td>57982</td>\n",
       "      <td>64662500</td>\n",
       "      <td>92375</td>\n",
       "      <td>14</td>\n",
       "      <td>1667</td>\n",
       "      <td>0.264351</td>\n",
       "      <td>34.782244</td>\n",
       "      <td>38789.742052</td>\n",
       "      <td>6598.214286</td>\n",
       "    </tr>\n",
       "  </tbody>\n",
       "</table>\n",
       "</div>"
      ],
      "text/plain": [
       "     group  client_id  price_usd  insurance_amount_usd  loss_payout_amt_usd  \\\n",
       "0  control       6043      65064              92337500                79750   \n",
       "1     test       6306      57982              64662500                92375   \n",
       "\n",
       "   loss_cnt  converted  conversion_rate  avg_price  avg_insurance_amount  \\\n",
       "0        30       1949         0.322522  33.383273          47376.859928   \n",
       "1        14       1667         0.264351  34.782244          38789.742052   \n",
       "\n",
       "   avg_loss_payout_amt  \n",
       "0          2658.333333  \n",
       "1          6598.214286  "
      ]
     },
     "execution_count": 22,
     "metadata": {},
     "output_type": "execute_result"
    }
   ],
   "source": [
    "group"
   ]
  },
  {
   "cell_type": "code",
   "execution_count": 23,
   "metadata": {},
   "outputs": [
    {
     "name": "stdout",
     "output_type": "stream",
     "text": [
      "p-value равно 0.6156632574348682\n",
      "Не получилось отвергнуть нулевую гипотезу\n"
     ]
    }
   ],
   "source": [
    "# Проведём t-тест для проверки гипотезы о равенстве убыточности в группах\n",
    "control_loss = df[(df['group'] == 'control') & (df['converted'] == 1)]['loss_payout_amt_usd']\n",
    "test_loss = df[(df['group'] == 'test') & (df['converted'] == 1)]['loss_payout_amt_usd']\n",
    "alpha = 0.01\n",
    "\n",
    "stats, pvalue = st.ttest_ind(control_loss, test_loss, equal_var = False)\n",
    "\n",
    "print('p-value равно', pvalue)\n",
    "\n",
    "if (pvalue < alpha):\n",
    "    print('Отвергаем нулевую гипотезу')\n",
    "else:\n",
    "    print('Не получилось отвергнуть нулевую гипотезу')"
   ]
  },
  {
   "cell_type": "code",
   "execution_count": 24,
   "metadata": {},
   "outputs": [
    {
     "name": "stdout",
     "output_type": "stream",
     "text": [
      "Убыточность в тестовой группе на 15.83% выше, чем в контрольной\n"
     ]
    }
   ],
   "source": [
    "# На сколько процентов изменилась убыточность в тестовой группе по отношению к контрольной\n",
    "control = group['loss_payout_amt_usd'][0]\n",
    "test = group['loss_payout_amt_usd'][1]\n",
    "print(f'Убыточность в тестовой группе на {round((test/control-1)*100, 2)}% выше, чем в контрольной')"
   ]
  },
  {
   "cell_type": "code",
   "execution_count": 25,
   "metadata": {},
   "outputs": [
    {
     "name": "stdout",
     "output_type": "stream",
     "text": [
      "Средняя убыточность в тестовой группе на 148.21% выше, чем в контрольной\n"
     ]
    }
   ],
   "source": [
    "# На сколько процентов изменилась средняя убыточность в тестовой группе по отношению к контрольной\n",
    "control = group['avg_loss_payout_amt'][0]\n",
    "test = group['avg_loss_payout_amt'][1]\n",
    "print(f'Средняя убыточность в тестовой группе на {round((test/control-1)*100, 2)}% выше, чем в контрольной')"
   ]
  },
  {
   "cell_type": "code",
   "execution_count": 26,
   "metadata": {},
   "outputs": [
    {
     "data": {
      "image/png": "[encoded data removed]",
      "text/plain": [
       "<Figure size 640x480 with 1 Axes>"
      ]
     },
     "metadata": {},
     "output_type": "display_data"
    }
   ],
   "source": [
    "# Визуализируем убыточность по группам\n",
    "sns.barplot(x='group', y='loss_payout_amt_usd', data=group, color='grey')\n",
    "# Добавим подписи сверху столбцов\n",
    "for i in range(2):\n",
    "    plt.text(x=i, y=group['loss_payout_amt_usd'][i]+500, s=group['loss_payout_amt_usd'][i], horizontalalignment='center')\n",
    "plt.xlabel('Группа')\n",
    "plt.ylabel('Убыточность ($)')\n",
    "plt.show()"
   ]
  },
  {
   "cell_type": "code",
   "execution_count": 27,
   "metadata": {},
   "outputs": [
    {
     "data": {
      "image/png": "[encoded data removed]",
      "text/plain": [
       "<Figure size 640x480 with 1 Axes>"
      ]
     },
     "metadata": {},
     "output_type": "display_data"
    }
   ],
   "source": [
    "# Визуализируем среднюю убыточность по группам\n",
    "sns.barplot(x='group', y='avg_loss_payout_amt', data=group, color='grey')\n",
    "# Добавим подписи сверху столбцов\n",
    "for i in range(2):\n",
    "    plt.text(x=i, y=group['avg_loss_payout_amt'][i]+30, s=round(group['avg_loss_payout_amt'][i],2), horizontalalignment='center')\n",
    "plt.xlabel('Группа')\n",
    "plt.ylabel('Средняя убыточность ($)')\n",
    "plt.show()"
   ]
  },
  {
   "cell_type": "markdown",
   "metadata": {},
   "source": [
    "# Выводы:\n",
    "### - Конверсия в оформления в тестовой группе на **6.0% ниже**, чем в контрольной группе.\n",
    "### - Тест не показал статистически значимой разницы цен между группами.\n",
    "### - Тест не показал статистически значимой разницы убыточности между группами.\n"
   ]
  },
  {
   "cell_type": "markdown",
   "metadata": {},
   "source": [
    "# Рекомендация:\n",
    "Новый кластерный подход, похоже, не дает каких-либо существенных преимуществ по сравнению с традиционным методом оценки рисков. Учитывая снижение коэффициента конверсии и отсутствие явных улучшений в ценообразовании и убытках, переход на кластерный подход может оказать негативное влияние на бизнес, потенциально снижая доходы и доверие клиентов. Поэтому рекомендуется продолжать использовать традиционный подход к оценке рисков для определения стоимости полисов ВЗР. Если компания по-прежнему заинтересована в изучении кластерного подхода, потребуются дальнейшие исследования и уточнения, прежде чем рассматривать его внедрение."
   ]
  }
 ],
 "metadata": {
  "kernelspec": {
   "display_name": "base",
   "language": "python",
   "name": "python3"
  },
  "language_info": {
   "codemirror_mode": {
    "name": "ipython",
    "version": 3
   },
   "file_extension": ".py",
   "mimetype": "text/x-python",
   "name": "python",
   "nbconvert_exporter": "python",
   "pygments_lexer": "ipython3",
   "version": "3.10.9"
  },
  "orig_nbformat": 4
 },
 "nbformat": 4,
 "nbformat_minor": 2
}
